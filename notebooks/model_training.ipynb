{
 "cells": [
  {
   "cell_type": "code",
   "execution_count": 1,
   "id": "acd463f1",
   "metadata": {},
   "outputs": [
    {
     "name": "stdout",
     "output_type": "stream",
     "text": [
      "Working directory: c:\\Users\\hp\\Desktop\\ML-NLP-Engineer\n"
     ]
    }
   ],
   "source": [
    "# 🔧 Adjust working directory so relative paths in config.py resolve correctly\n",
    "import os\n",
    "import sys\n",
    "\n",
    "# Move up to project root if running from notebooks/\n",
    "if os.path.basename(os.getcwd()) == \"notebooks\":\n",
    "    os.chdir(\"..\")\n",
    "\n",
    "# Add root to sys.path so `src` module works\n",
    "sys.path.append(os.getcwd())\n",
    "\n",
    "# ✅ Confirm it worked\n",
    "print(\"Working directory:\", os.getcwd())\n",
    "\n",
    "# 📦 Imports\n",
    "import pandas as pd\n",
    "import json\n",
    "import matplotlib.pyplot as plt\n",
    "import seaborn as sns\n",
    "from IPython.display import display, Markdown\n",
    "\n",
    "from src.train_model import train_sentiment_model\n",
    "from src.config import REPORTS_PATH, PROCESSED_DATA_PATH\n"
   ]
  },
  {
   "cell_type": "code",
   "execution_count": 2,
   "id": "9e9dbd58",
   "metadata": {},
   "outputs": [
    {
     "data": {
      "text/markdown": [
       "\n",
       "# 🏋️‍♂️ Model Training & Experimentation\n",
       "\n",
       "This notebook supports:\n",
       "- 🔁 Switching between `DistilBERT`, etc.\n",
       "- ⚙️ Hyperparameter tuning (epochs, batch size, sample size)\n",
       "- 📊 Visual feedback on training metrics\n",
       "- 🧪 Easy iteration and comparison\n"
      ],
      "text/plain": [
       "<IPython.core.display.Markdown object>"
      ]
     },
     "metadata": {},
     "output_type": "display_data"
    }
   ],
   "source": [
    "display(Markdown(\"\"\"\n",
    "# 🏋️‍♂️ Model Training & Experimentation\n",
    "\n",
    "This notebook supports:\n",
    "- 🔁 Switching between `DistilBERT`, etc.\n",
    "- ⚙️ Hyperparameter tuning (epochs, batch size, sample size)\n",
    "- 📊 Visual feedback on training metrics\n",
    "- 🧪 Easy iteration and comparison\n",
    "\"\"\"))"
   ]
  },
  {
   "cell_type": "code",
   "execution_count": 3,
   "id": "dad62cb2",
   "metadata": {},
   "outputs": [],
   "source": [
    "# ⏹️ Change these values to try different experiments\n",
    "model_type = \"distilbert\"   # Options: \"distilbert\", \"xlm-roberta\"\n",
    "epochs = 3\n",
    "batch_size = 8\n",
    "sample_size = 1500  # Balanced: 600 Negative, 300 Neutral, 600 Positive\n"
   ]
  },
  {
   "cell_type": "code",
   "execution_count": 4,
   "id": "8ebb4079",
   "metadata": {},
   "outputs": [
    {
     "name": "stdout",
     "output_type": "stream",
     "text": [
      "Using 1500 samples\n",
      "Label distribution: [600 300 600]\n"
     ]
    },
    {
     "name": "stderr",
     "output_type": "stream",
     "text": [
      "Some weights of DistilBertForSequenceClassification were not initialized from the model checkpoint at distilbert-base-uncased and are newly initialized: ['classifier.bias', 'classifier.weight', 'pre_classifier.bias', 'pre_classifier.weight']\n",
      "You should probably TRAIN this model on a down-stream task to be able to use it for predictions and inference.\n"
     ]
    },
    {
     "name": "stdout",
     "output_type": "stream",
     "text": [
      "Tokenizing...\n"
     ]
    },
    {
     "name": "stderr",
     "output_type": "stream",
     "text": [
      "Epoch 1: 100%|██████████| 150/150 [05:40<00:00,  2.27s/it, loss=1.12]\n"
     ]
    },
    {
     "name": "stdout",
     "output_type": "stream",
     "text": [
      "Epoch 1 | Loss: 1.1053 | F1: 0.2692 | Time: 340.3s\n"
     ]
    },
    {
     "name": "stderr",
     "output_type": "stream",
     "text": [
      "Epoch 2: 100%|██████████| 150/150 [05:48<00:00,  2.32s/it, loss=1.03] \n"
     ]
    },
    {
     "name": "stdout",
     "output_type": "stream",
     "text": [
      "Epoch 2 | Loss: 1.0882 | F1: 0.4339 | Time: 348.7s\n"
     ]
    },
    {
     "name": "stderr",
     "output_type": "stream",
     "text": [
      "Epoch 3: 100%|██████████| 150/150 [08:18<00:00,  3.33s/it, loss=1]    \n"
     ]
    },
    {
     "name": "stdout",
     "output_type": "stream",
     "text": [
      "Epoch 3 | Loss: 0.9547 | F1: 0.5677 | Time: 499.1s\n",
      "Quantized model saved to models/distilbert_quantized_sentiment\n",
      "Training complete. Quantized model saved.\n"
     ]
    }
   ],
   "source": [
    "# 🔄 Run training with your selected config\n",
    "train_sentiment_model(\n",
    "    model_type=model_type,\n",
    "    batch_size=batch_size,\n",
    "    epochs=epochs,\n",
    "    sample_size=sample_size\n",
    ")\n"
   ]
  },
  {
   "cell_type": "code",
   "execution_count": null,
   "id": "683d63e5",
   "metadata": {},
   "outputs": [
    {
     "data": {
      "image/png": "[encoded data removed]",
      "text/plain": [
       "<Figure size 600x400 with 1 Axes>"
      ]
     },
     "metadata": {},
     "output_type": "display_data"
    }
   ],
   "source": [
    "# 🧮 Visualizing label distribution from processed data\n",
    "df = pd.read_csv(\"data/processed_reviews.csv\")\n",
    "df_sample = df[df['sentiment'].isin(['Negative', 'Neutral', 'Positive'])]\n",
    "\n",
    "plt.figure(figsize=(6,4))\n",
    "sns.countplot(x='sentiment', data=df_sample, order=['Negative', 'Neutral', 'Positive'])\n",
    "plt.title(\"Sentiment Distribution\")\n",
    "plt.xlabel(\"Sentiment\")\n",
    "plt.ylabel(\"Count\")\n",
    "plt.show()"
   ]
  },
  {
   "cell_type": "code",
   "execution_count": null,
   "id": "16b6bfa6",
   "metadata": {},
   "outputs": [],
   "source": []
  }
 ],
 "metadata": {
  "kernelspec": {
   "display_name": "Python 3",
   "language": "python",
   "name": "python3"
  },
  "language_info": {
   "codemirror_mode": {
    "name": "ipython",
    "version": 3
   },
   "file_extension": ".py",
   "mimetype": "text/x-python",
   "name": "python",
   "nbconvert_exporter": "python",
   "pygments_lexer": "ipython3",
   "version": "3.10.10"
  }
 },
 "nbformat": 4,
 "nbformat_minor": 5
}
